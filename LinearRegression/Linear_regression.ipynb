{
  "nbformat": 4,
  "nbformat_minor": 0,
  "metadata": {
    "colab": {
      "provenance": []
    },
    "kernelspec": {
      "name": "python3",
      "display_name": "Python 3"
    },
    "language_info": {
      "name": "python"
    }
  },
  "cells": [
    {
      "cell_type": "markdown",
      "source": [
        "## Interview Questions"
      ],
      "metadata": {
        "id": "BjZcbHDSiGjW"
      }
    },
    {
      "cell_type": "markdown",
      "source": [
        "Here are **20 interview questions** on **Linear Regression** along with their answers, covering fundamental concepts, assumptions, evaluation metrics, and practical considerations.\n",
        "\n",
        "---\n",
        "\n",
        "### **1. What is Linear Regression?**  \n",
        "**Answer:**  \n",
        "Linear Regression is a supervised learning algorithm used to model the relationship between a dependent variable (target) and one or more independent variables (features) by fitting a linear equation to the observed data.\n",
        "\n",
        "---\n",
        "\n",
        "### **2. What is the equation for Simple Linear Regression?**  \n",
        "**Answer:**  \n",
        "For Simple Linear Regression (one feature):  \n",
        "\\[ y = \\beta_0 + \\beta_1 x + \\epsilon \\]  \n",
        "- \\( y \\): Dependent variable  \n",
        "- \\( x \\): Independent variable  \n",
        "- \\( \\beta_0 \\): Intercept  \n",
        "- \\( \\beta_1 \\): Coefficient  \n",
        "- \\( \\epsilon \\): Error term  \n",
        "\n",
        "---\n",
        "\n",
        "### **3. What is the difference between Simple and Multiple Linear Regression?**  \n",
        "**Answer:**  \n",
        "- **Simple Linear Regression** has **one independent variable**.  \n",
        "- **Multiple Linear Regression** has **two or more independent variables**.  \n",
        "\n",
        "---\n",
        "\n",
        "### **4. How are coefficients (β) estimated in Linear Regression?**  \n",
        "**Answer:**  \n",
        "Coefficients are estimated using the **Ordinary Least Squares (OLS)** method, which minimizes the **sum of squared residuals** (difference between actual and predicted values).  \n",
        "\n",
        "---\n",
        "\n",
        "### **5. What are the assumptions of Linear Regression?**  \n",
        "**Answer:**  \n",
        "1. **Linearity**: Relationship between features and target is linear.  \n",
        "2. **Independence**: Residuals are uncorrelated (no autocorrelation).  \n",
        "3. **Homoscedasticity**: Residuals have constant variance.  \n",
        "4. **Normality**: Residuals are normally distributed (for inference).  \n",
        "5. **No multicollinearity**: Features are not highly correlated.  \n",
        "\n",
        "---\n",
        "\n",
        "### **6. What is the cost function in Linear Regression?**  \n",
        "**Answer:**  \n",
        "The **Mean Squared Error (MSE)** is the cost function:  \n",
        "\\[ MSE = \\frac{1}{n} \\sum_{i=1}^{n} (y_i - \\hat{y_i})^2 \\]  \n",
        "where \\( \\hat{y_i} \\) is the predicted value.  \n",
        "\n",
        "---\n",
        "\n",
        "### **7. How do you interpret the regression coefficient (β₁)?**  \n",
        "**Answer:**  \n",
        "A coefficient \\( \\beta_1 \\) indicates the **change in the dependent variable (y) for a one-unit change in the independent variable (x)**, holding other variables constant.  \n",
        "\n",
        "---\n",
        "\n",
        "### **8. What is R-squared (R²)?**  \n",
        "**Answer:**  \n",
        "R-squared measures the **proportion of variance in the dependent variable explained by the model**.  \n",
        "\\[ R^2 = 1 - \\frac{SS_{res}}{SS_{tot}} \\]  \n",
        "- \\( SS_{res} \\): Sum of squared residuals  \n",
        "- \\( SS_{tot} \\): Total sum of squares  \n",
        "\n",
        "**Limitation**: R² increases with more features, even if they are irrelevant.  \n",
        "\n",
        "---\n",
        "\n",
        "### **9. What is Adjusted R-squared?**  \n",
        "**Answer:**  \n",
        "Adjusted R² adjusts for the number of predictors in the model to prevent overfitting:  \n",
        "\\[ \\text{Adjusted } R^2 = 1 - \\left( \\frac{(1 - R^2)(n-1)}{n - p - 1} \\right) \\]  \n",
        "- \\( n \\): Number of samples  \n",
        "- \\( p \\): Number of features  \n",
        "\n",
        "---\n",
        "\n",
        "### **10. What is Multicollinearity and how does it affect Linear Regression?**  \n",
        "**Answer:**  \n",
        "- **Multicollinearity** occurs when independent variables are highly correlated.  \n",
        "- **Effects**:  \n",
        "  - Unstable coefficient estimates.  \n",
        "  - Difficulty in interpreting feature importance.  \n",
        "- **Detection**: Variance Inflation Factor (VIF > 5 or 10 indicates multicollinearity).  \n",
        "\n",
        "---\n",
        "\n",
        "### **11. How do you handle Multicollinearity?**  \n",
        "**Answer:**  \n",
        "1. Remove one of the correlated features.  \n",
        "2. Use **Principal Component Analysis (PCA)**.  \n",
        "3. Apply **Ridge Regression (L2 regularization)**.  \n",
        "\n",
        "---\n",
        "\n",
        "### **12. What is Heteroscedasticity? How do you detect it?**  \n",
        "**Answer:**  \n",
        "- **Heteroscedasticity**: Residuals have non-constant variance.  \n",
        "- **Detection**: Plot residuals vs. predicted values (fan-shaped pattern).  \n",
        "- **Solution**: Transform the dependent variable (log transform) or use **Weighted Least Squares**.  \n",
        "\n",
        "---\n",
        "\n",
        "### **13. What is the difference between Bias and Variance?**  \n",
        "**Answer:**  \n",
        "- **Bias**: Error due to overly simplistic assumptions (underfitting).  \n",
        "- **Variance**: Error due to excessive complexity (overfitting).  \n",
        "- **Tradeoff**: Increasing model complexity reduces bias but increases variance.  \n",
        "\n",
        "---\n",
        "\n",
        "### **14. What is Regularization in Linear Regression?**  \n",
        "**Answer:**  \n",
        "Regularization prevents overfitting by adding a penalty term to the cost function:  \n",
        "- **Lasso (L1)**: Adds \\( \\lambda \\sum |\\beta_i| \\) (can shrink coefficients to zero).  \n",
        "- **Ridge (L2)**: Adds \\( \\lambda \\sum \\beta_i^2 \\) (shrinks coefficients but not to zero).  \n",
        "\n",
        "---\n",
        "\n",
        "### **15. When would you use Lasso vs. Ridge Regression?**  \n",
        "**Answer:**  \n",
        "- **Use Lasso** for feature selection (when some features are irrelevant).  \n",
        "- **Use Ridge** when all features are relevant but need shrinkage.  \n",
        "\n",
        "---\n",
        "\n",
        "### **16. What is the role of the Intercept (β₀) in Linear Regression?**  \n",
        "**Answer:**  \n",
        "The intercept represents the **expected mean value of y when all predictors (x) are zero**.  \n",
        "\n",
        "---\n",
        "\n",
        "### **17. How do you handle outliers in Linear Regression?**  \n",
        "**Answer:**  \n",
        "- Detect using **residual plots, Cook’s distance**.  \n",
        "- Remove outliers if justified.  \n",
        "- Use **robust regression methods (RANSAC, Huber Regressor)**.  \n",
        "\n",
        "---\n",
        "\n",
        "### **18. Can Linear Regression be used for classification?**  \n",
        "**Answer:**  \n",
        "No, but **Logistic Regression** (a classification method) is derived from Linear Regression for binary outcomes.  \n",
        "\n",
        "---\n",
        "\n",
        "### **19. What is the difference between OLS and Gradient Descent?**  \n",
        "**Answer:**  \n",
        "- **OLS** is a closed-form solution (calculates coefficients analytically).  \n",
        "- **Gradient Descent** is an iterative optimization method (useful for large datasets).  \n",
        "\n",
        "---\n",
        "\n",
        "### **20. How do you validate a Linear Regression model?**  \n",
        "**Answer:**  \n",
        "1. **Train-Test Split**: Evaluate on unseen data.  \n",
        "2. **Cross-Validation (k-fold)**.  \n",
        "3. **Metrics**:  \n",
        "   - MSE, RMSE (lower is better).  \n",
        "   - MAE (interpretable).  \n",
        "   - R² (closer to 1 is better).  \n",
        "\n",
        "---\n",
        "\n",
        "### **Bonus: Practical Considerations**  \n",
        "- **Feature Scaling**: Needed for regularization (Lasso/Ridge).  \n",
        "- **Dummy Variables**: Required for categorical features.  \n",
        "- **Interaction Terms**: Can capture feature dependencies.  \n",
        "\n",
        "These questions cover **theory, assumptions, evaluation, and optimization** of Linear Regression—essential for interviews! 🚀  \n",
        "\n",
        "Would you like more questions on advanced topics like **polynomial regression or assumptions violations**?"
      ],
      "metadata": {
        "id": "eXigux9OiKOf"
      }
    },
    {
      "cell_type": "markdown",
      "source": [
        "This Python code covers:\n",
        "✅ Data Loading & Preprocessing  \n",
        "✅ Handling Imbalanced Data (skewed target variable)  \n",
        "✅ Feature Scaling  \n",
        "✅ Assumption Checks (Linearity, Multicollinearity, Homoscedasticity, Normality)  \n",
        "✅ Model Training & Evaluation  \n",
        "✅ Handling Outliers  "
      ],
      "metadata": {
        "id": "VYHUj3fQL9Zj"
      }
    },
    {
      "cell_type": "markdown",
      "source": [
        " Import Libraries & Load Data"
      ],
      "metadata": {
        "id": "8hwyy5hKM-5B"
      }
    },
    {
      "cell_type": "code",
      "execution_count": 11,
      "metadata": {
        "colab": {
          "base_uri": "https://localhost:8080/"
        },
        "id": "y72vyuh-L0BN",
        "outputId": "64109414-6a39-44e6-c15a-52257aa5be03"
      },
      "outputs": [
        {
          "output_type": "stream",
          "name": "stdout",
          "text": [
            "Generated home_prices.csv\n",
            "   Area  Bedrooms  Bathrooms  Age   Price\n",
            "0  1360         2          1   31  316474\n",
            "1  4272         3          3    2  295948\n",
            "2  3592         1          2    2  370092\n",
            "3   966         1          2   27  385515\n",
            "4  4926         2          1   43  326383\n"
          ]
        }
      ],
      "source": [
        "import pandas as pd\n",
        "import numpy as np\n",
        "import matplotlib.pyplot as plt\n",
        "import seaborn as sns\n",
        "from sklearn.model_selection import train_test_split\n",
        "from sklearn.linear_model import LinearRegression\n",
        "from sklearn.preprocessing import StandardScaler\n",
        "from sklearn.metrics import mean_squared_error, r2_score, mean_absolute_error\n",
        "import statsmodels.api as sm\n",
        "from statsmodels.stats.outliers_influence import variance_inflation_factor\n",
        "from scipy import stats\n",
        "\n",
        "# Simulate home price data\n",
        "np.random.seed(42)\n",
        "data = {\n",
        "    'Area': np.random.randint(500, 5000, 1000),\n",
        "    'Bedrooms': np.random.randint(1, 6, 1000),\n",
        "    'Bathrooms': np.random.randint(1, 4, 1000),\n",
        "    'Age': np.random.randint(0, 50, 1000),\n",
        "    'Price': np.random.normal(300000, 100000, 1000).astype(int)  # Skewed target\n",
        "}\n",
        "df = pd.DataFrame(data)\n",
        "df['Price'] = np.abs(df['Price'])  # Ensure no negative prices\n",
        "df.to_csv('home_prices.csv', index=False)\n",
        "print(\"Generated home_prices.csv\")\n",
        "\n",
        "# Load dataset (example: home prices with features like area, bedrooms, etc.)\n",
        "data = pd.read_csv('home_prices.csv')  # Replace with your dataset\n",
        "print(data.head())"
      ]
    },
    {
      "cell_type": "code",
      "source": [
        "df.shape"
      ],
      "metadata": {
        "colab": {
          "base_uri": "https://localhost:8080/"
        },
        "id": "4pSWrFTXMJDm",
        "outputId": "3cf398ee-9b59-49bb-90ae-09915e9024e7"
      },
      "execution_count": 12,
      "outputs": [
        {
          "output_type": "execute_result",
          "data": {
            "text/plain": [
              "(1000, 5)"
            ]
          },
          "metadata": {},
          "execution_count": 12
        }
      ]
    },
    {
      "cell_type": "markdown",
      "source": [
        "Exploratory Data Analysis (EDA)"
      ],
      "metadata": {
        "id": "ayl7TTCqNQGB"
      }
    },
    {
      "cell_type": "code",
      "source": [
        "# Plot distribution of target variable (Home Price)\n",
        "plt.figure(figsize=(10, 5))\n",
        "sns.histplot(data['Price'], kde=True)\n",
        "plt.title(\"Distribution of Home Prices (Target Variable)\")\n",
        "plt.show()\n",
        "\n",
        "# Log-transform if skewed (common for prices)\n",
        "if abs(data['Price'].skew()) > 1:  # Highly skewed\n",
        "    data['Price'] = np.log1p(data['Price'])  # log(1+x) to handle zeros\n",
        "    print(\"Applied log transform to target variable.\")"
      ],
      "metadata": {
        "colab": {
          "base_uri": "https://localhost:8080/",
          "height": 487
        },
        "id": "QjgzZmrKM13D",
        "outputId": "b7d6b0a4-a492-47c3-f5f0-bf9e961b0f69"
      },
      "execution_count": 13,
      "outputs": [
        {
          "output_type": "display_data",
          "data": {
            "text/plain": [
              "<Figure size 1000x500 with 1 Axes>"
            ],
            "image/png": "[encoded data removed]"
          },
          "metadata": {}
        }
      ]
    },
    {
      "cell_type": "code",
      "source": [
        "print(\"\\nMissing Values:\")\n",
        "print(data.isnull().sum())\n",
        "# Handle missing data (drop or impute)\n",
        "data = data.dropna()  # Simple approach (replace with mean/median if needed)"
      ],
      "metadata": {
        "colab": {
          "base_uri": "https://localhost:8080/"
        },
        "id": "uAWgPBHFNTOF",
        "outputId": "4012b6d7-1df2-414c-ece1-5f6099ca8475"
      },
      "execution_count": 14,
      "outputs": [
        {
          "output_type": "stream",
          "name": "stdout",
          "text": [
            "\n",
            "Missing Values:\n",
            "Area         0\n",
            "Bedrooms     0\n",
            "Bathrooms    0\n",
            "Age          0\n",
            "Price        0\n",
            "dtype: int64\n"
          ]
        }
      ]
    },
    {
      "cell_type": "markdown",
      "source": [
        "Feature Selection and Multicollinearity check"
      ],
      "metadata": {
        "id": "MH1Lf7LSNfRs"
      }
    },
    {
      "cell_type": "code",
      "source": [
        "# Select features (X) and target (y)\n",
        "X = data.drop('Price', axis=1)\n",
        "y = data['Price']\n",
        "\n",
        "# Check multicollinearity using VIF (Variance Inflation Factor)\n",
        "vif_data = pd.DataFrame()\n",
        "vif_data[\"Feature\"] = X.columns\n",
        "vif_data[\"VIF\"] = [variance_inflation_factor(X.values, i) for i in range(X.shape[1])]\n",
        "print(\"\\nVIF Scores:\")\n",
        "print(vif_data)\n",
        "\n",
        "# Remove features with VIF > 5 (high multicollinearity)\n",
        "X = X.drop(columns=vif_data[vif_data[\"VIF\"] > 5][\"Feature\"])\n",
        "print(\"Removed high-VIF features.\")"
      ],
      "metadata": {
        "colab": {
          "base_uri": "https://localhost:8080/"
        },
        "id": "uGlPiBRUNa8n",
        "outputId": "2af7323d-2a16-4756-a1d2-991337fb17ab"
      },
      "execution_count": 15,
      "outputs": [
        {
          "output_type": "stream",
          "name": "stdout",
          "text": [
            "\n",
            "VIF Scores:\n",
            "     Feature       VIF\n",
            "0       Area  4.221055\n",
            "1   Bedrooms  4.176311\n",
            "2  Bathrooms  4.757574\n",
            "3        Age  3.316455\n",
            "Removed high-VIF features.\n"
          ]
        }
      ]
    },
    {
      "cell_type": "markdown",
      "source": [
        "Train-Test Split & Feature Scaling"
      ],
      "metadata": {
        "id": "SoxBFBnWNyVO"
      }
    },
    {
      "cell_type": "code",
      "source": [
        "# Split data into train & test sets\n",
        "X_train, X_test, y_train, y_test = train_test_split(X, y, test_size=0.2, random_state=42)\n",
        "\n",
        "# Standardize features (important for regularization & gradient descent)\n",
        "scaler = StandardScaler()\n",
        "X_train_scaled = scaler.fit_transform(X_train)\n",
        "X_test_scaled = scaler.transform(X_test)"
      ],
      "metadata": {
        "id": "q8wQJc9jNmN_"
      },
      "execution_count": 16,
      "outputs": []
    },
    {
      "cell_type": "markdown",
      "source": [
        "Train Linear Regression Model"
      ],
      "metadata": {
        "id": "ctStioPDN36Y"
      }
    },
    {
      "cell_type": "code",
      "source": [
        "# Fit model\n",
        "model = LinearRegression()\n",
        "model.fit(X_train_scaled, y_train)\n",
        "\n",
        "# Predictions\n",
        "y_pred_train = model.predict(X_train_scaled)\n",
        "y_pred_test = model.predict(X_test_scaled)"
      ],
      "metadata": {
        "id": "e9wJ15w8N0yW"
      },
      "execution_count": 17,
      "outputs": []
    },
    {
      "cell_type": "markdown",
      "source": [
        "Model Evaluation"
      ],
      "metadata": {
        "id": "J01mS7NdOXDL"
      }
    },
    {
      "cell_type": "code",
      "source": [
        "# Metrics\n",
        "def evaluate_model(y_true, y_pred, dataset_name):\n",
        "    mse = mean_squared_error(y_true, y_pred)\n",
        "    rmse = np.sqrt(mse)\n",
        "    mae = mean_absolute_error(y_true, y_pred)\n",
        "    r2 = r2_score(y_true, y_pred)\n",
        "    print(f\"\\nMetrics for {dataset_name}:\")\n",
        "    print(f\"MSE: {mse:.2f}\")\n",
        "    print(f\"RMSE: {rmse:.2f}\")\n",
        "    print(f\"MAE: {mae:.2f}\")\n",
        "    print(f\"R²: {r2:.2f}\")\n",
        "\n",
        "evaluate_model(y_train, y_pred_train, \"Training Data\")\n",
        "evaluate_model(y_test, y_pred_test, \"Test Data\")"
      ],
      "metadata": {
        "id": "mtHUyPY4N6O0",
        "colab": {
          "base_uri": "https://localhost:8080/"
        },
        "outputId": "15eb6556-e120-464f-b3d0-a936ffd5578d"
      },
      "execution_count": 18,
      "outputs": [
        {
          "output_type": "stream",
          "name": "stdout",
          "text": [
            "\n",
            "Metrics for Training Data:\n",
            "MSE: 10114921045.12\n",
            "RMSE: 100572.96\n",
            "MAE: 79813.21\n",
            "R²: 0.01\n",
            "\n",
            "Metrics for Test Data:\n",
            "MSE: 9993080660.49\n",
            "RMSE: 99965.40\n",
            "MAE: 77549.36\n",
            "R²: -0.01\n"
          ]
        }
      ]
    },
    {
      "cell_type": "markdown",
      "source": [
        "7. Check Linear Regression Assumptions"
      ],
      "metadata": {
        "id": "xwOyv6ZqPDPn"
      }
    },
    {
      "cell_type": "code",
      "source": [
        "# (1) Linearity (Residuals vs. Predicted)\n",
        "residuals = y_test - y_pred_test\n",
        "plt.figure(figsize=(10, 5))\n",
        "sns.scatterplot(x=y_pred_test, y=residuals)\n",
        "plt.axhline(y=0, color='r', linestyle='--')\n",
        "plt.title(\"Residuals vs. Predicted Values\")\n",
        "plt.xlabel(\"Predicted Values\")\n",
        "plt.ylabel(\"Residuals\")\n",
        "plt.show()"
      ],
      "metadata": {
        "colab": {
          "base_uri": "https://localhost:8080/",
          "height": 487
        },
        "id": "5L6SbFFlOfiZ",
        "outputId": "3b5450d0-2953-4ea9-99f4-1123c818d0d0"
      },
      "execution_count": 19,
      "outputs": [
        {
          "output_type": "display_data",
          "data": {
            "text/plain": [
              "<Figure size 1000x500 with 1 Axes>"
            ],
            "image/png": "[encoded data removed]"
          },
          "metadata": {}
        }
      ]
    },
    {
      "cell_type": "markdown",
      "source": [
        "Expected: Residuals should be randomly scattered around 0."
      ],
      "metadata": {
        "id": "ZbIN7ganPMvs"
      }
    },
    {
      "cell_type": "markdown",
      "source": [
        "(2) Normality of Residuals (QQ Plot)"
      ],
      "metadata": {
        "id": "EuJHW4NKPN8y"
      }
    },
    {
      "cell_type": "code",
      "source": [
        "sm.qqplot(residuals, line='s')\n",
        "plt.title(\"Q-Q Plot of Residuals\")\n",
        "plt.show()\n",
        "\n",
        "# Expected: Points should follow the 45° line."
      ],
      "metadata": {
        "colab": {
          "base_uri": "https://localhost:8080/",
          "height": 472
        },
        "id": "WRG_WaeFPIgC",
        "outputId": "24ac7fcb-5650-4936-a0b9-713521ab3968"
      },
      "execution_count": 20,
      "outputs": [
        {
          "output_type": "display_data",
          "data": {
            "text/plain": [
              "<Figure size 640x480 with 1 Axes>"
            ],
            "image/png": "[encoded data removed]"
          },
          "metadata": {}
        }
      ]
    },
    {
      "cell_type": "code",
      "source": [
        "# (3) Homoscedasticity (Constant Variance)\n",
        "plt.figure(figsize=(10, 5))\n",
        "sns.scatterplot(x=y_pred_test, y=np.abs(residuals))\n",
        "plt.title(\"Absolute Residuals vs. Predicted Values\")\n",
        "plt.xlabel(\"Predicted Values\")\n",
        "plt.ylabel(\"Absolute Residuals\")\n",
        "plt.show()"
      ],
      "metadata": {
        "colab": {
          "base_uri": "https://localhost:8080/",
          "height": 487
        },
        "id": "XbdA3yJ-PUDt",
        "outputId": "90cbef10-2494-4282-98f3-542cc8895209"
      },
      "execution_count": 21,
      "outputs": [
        {
          "output_type": "display_data",
          "data": {
            "text/plain": [
              "<Figure size 1000x500 with 1 Axes>"
            ],
            "image/png": "[encoded data removed]"
          },
          "metadata": {}
        }
      ]
    },
    {
      "cell_type": "markdown",
      "source": [
        "Expected: No funnel shape (residuals should not increase with predictions)."
      ],
      "metadata": {
        "id": "RoFdtWbFPiRh"
      }
    },
    {
      "cell_type": "code",
      "source": [
        "# (4) No Autocorrelation (Durbin-Watson Test)\n",
        "\n",
        "from statsmodels.stats.stattools import durbin_watson\n",
        "dw = durbin_watson(residuals)\n",
        "print(f\"\\nDurbin-Watson Test: {dw:.2f}\")\n",
        "# Interpretation: ~2 (no autocorrelation), <1 or >3 (problematic)"
      ],
      "metadata": {
        "colab": {
          "base_uri": "https://localhost:8080/"
        },
        "id": "7xgWR-bSPe-d",
        "outputId": "c683470b-7472-4749-ee7c-140d71a30194"
      },
      "execution_count": 22,
      "outputs": [
        {
          "output_type": "stream",
          "name": "stdout",
          "text": [
            "\n",
            "Durbin-Watson Test: 2.09\n"
          ]
        }
      ]
    },
    {
      "cell_type": "code",
      "source": [
        "# Handling Outliers (Robust Regression)\n",
        "from sklearn.linear_model import HuberRegressor\n",
        "\n",
        "# Fit robust model (less sensitive to outliers)\n",
        "robust_model = HuberRegressor()\n",
        "robust_model.fit(X_train_scaled, y_train)\n",
        "y_pred_robust = robust_model.predict(X_test_scaled)\n",
        "\n",
        "# Compare performance\n",
        "evaluate_model(y_test, y_pred_robust, \"Robust Regression (Test Data)\")"
      ],
      "metadata": {
        "colab": {
          "base_uri": "https://localhost:8080/"
        },
        "id": "xZ9APBE0SACt",
        "outputId": "ffee52dd-42f1-4a7f-9c44-59976ecfef15"
      },
      "execution_count": 23,
      "outputs": [
        {
          "output_type": "stream",
          "name": "stdout",
          "text": [
            "\n",
            "Metrics for Robust Regression (Test Data):\n",
            "MSE: 10035082632.83\n",
            "RMSE: 100175.26\n",
            "MAE: 77607.40\n",
            "R²: -0.01\n"
          ]
        }
      ]
    },
    {
      "cell_type": "markdown",
      "source": [
        "Final Model Interpretation"
      ],
      "metadata": {
        "id": "utx1ezzVSUPi"
      }
    },
    {
      "cell_type": "code",
      "source": [
        "# Get coefficients (feature importance)\n",
        "coefficients = pd.DataFrame({\n",
        "    \"Feature\": X.columns,\n",
        "    \"Coefficient\": model.coef_\n",
        "})\n",
        "print(\"\\nFeature Coefficients:\")\n",
        "print(coefficients.sort_values(by=\"Coefficient\", ascending=False))"
      ],
      "metadata": {
        "colab": {
          "base_uri": "https://localhost:8080/"
        },
        "id": "8OC7MEBGSO34",
        "outputId": "e8471f43-e23e-40c8-ca9b-5ae508a7c154"
      },
      "execution_count": 24,
      "outputs": [
        {
          "output_type": "stream",
          "name": "stdout",
          "text": [
            "\n",
            "Feature Coefficients:\n",
            "     Feature  Coefficient\n",
            "3        Age  1474.546382\n",
            "1   Bedrooms -3279.075406\n",
            "0       Area -5104.877826\n",
            "2  Bathrooms -5549.185464\n"
          ]
        }
      ]
    },
    {
      "cell_type": "markdown",
      "source": [
        "Enhanced Multiple Linear Regression with Polynomial Features & Regularization (Ridge/Lasso)"
      ],
      "metadata": {
        "id": "iBh_VTu4SlMh"
      }
    },
    {
      "cell_type": "markdown",
      "source": [
        "This extended version includes:  \n",
        "✅ Polynomial Feature Expansion (for non-linear relationships)  \n",
        "✅ Ridge & Lasso Regression (to prevent overfitting)  \n",
        "✅ Hyperparameter Tuning (using cross-validation)  \n",
        "✅ Comparison of All Models  "
      ],
      "metadata": {
        "id": "w5SHQ5DeSobm"
      }
    },
    {
      "cell_type": "code",
      "source": [
        "from sklearn.preprocessing import PolynomialFeatures\n",
        "from sklearn.linear_model import Ridge, Lasso\n",
        "from sklearn.model_selection import GridSearchCV"
      ],
      "metadata": {
        "id": "q7WBvtHgSWdb"
      },
      "execution_count": 25,
      "outputs": []
    },
    {
      "cell_type": "markdown",
      "source": [
        "2. Polynomial Regression\n",
        "Generate Polynomial Features (Degree=2)"
      ],
      "metadata": {
        "id": "NvEUZ7XbT7J9"
      }
    },
    {
      "cell_type": "code",
      "source": [
        "# Create polynomial features (e.g., X², X1*X2)\n",
        "poly = PolynomialFeatures(degree=2, include_bias=False)\n",
        "X_train_poly = poly.fit_transform(X_train_scaled)\n",
        "X_test_poly = poly.transform(X_test_scaled)\n",
        "\n",
        "# Train polynomial regression\n",
        "poly_model = LinearRegression()\n",
        "poly_model.fit(X_train_poly, y_train)\n",
        "y_pred_poly = poly_model.predict(X_test_poly)\n",
        "\n",
        "# Evaluate\n",
        "evaluate_model(y_test, y_pred_poly, \"Polynomial Regression (Degree=2)\")"
      ],
      "metadata": {
        "colab": {
          "base_uri": "https://localhost:8080/"
        },
        "id": "z-NcQV94T4VG",
        "outputId": "87f841c0-8971-434f-d813-94cc9f7b83a2"
      },
      "execution_count": 26,
      "outputs": [
        {
          "output_type": "stream",
          "name": "stdout",
          "text": [
            "\n",
            "Metrics for Polynomial Regression (Degree=2):\n",
            "MSE: 9936580724.63\n",
            "RMSE: 99682.40\n",
            "MAE: 77754.93\n",
            "R²: 0.00\n"
          ]
        }
      ]
    },
    {
      "cell_type": "markdown",
      "source": [
        "Check for Overfitting"
      ],
      "metadata": {
        "id": "wN1Ge82eUEJN"
      }
    },
    {
      "cell_type": "code",
      "source": [
        "# Compare train vs. test performance\n",
        "y_pred_poly_train = poly_model.predict(X_train_poly)\n",
        "evaluate_model(y_train, y_pred_poly_train, \"Polynomial Regression (Training)\")\n",
        "evaluate_model(y_test, y_pred_poly, \"Polynomial Regression (Test)\")\n",
        "\n",
        "# If test performance << train performance, reduce degree or regularize."
      ],
      "metadata": {
        "colab": {
          "base_uri": "https://localhost:8080/"
        },
        "id": "sDOlrIP8T9MD",
        "outputId": "77d0e99e-b620-4263-af77-fee2df3521d7"
      },
      "execution_count": 27,
      "outputs": [
        {
          "output_type": "stream",
          "name": "stdout",
          "text": [
            "\n",
            "Metrics for Polynomial Regression (Training):\n",
            "MSE: 9983909261.20\n",
            "RMSE: 99919.51\n",
            "MAE: 79144.97\n",
            "R²: 0.02\n",
            "\n",
            "Metrics for Polynomial Regression (Test):\n",
            "MSE: 9936580724.63\n",
            "RMSE: 99682.40\n",
            "MAE: 77754.93\n",
            "R²: 0.00\n"
          ]
        }
      ]
    },
    {
      "cell_type": "markdown",
      "source": [
        "3. Regularized Regression (Ridge & Lasso)\n",
        "Ridge Regression (L2 Penalty)"
      ],
      "metadata": {
        "id": "CoCNrnuBUKnU"
      }
    },
    {
      "cell_type": "code",
      "source": [
        "# Hyperparameter tuning for alpha (λ)\n",
        "ridge = Ridge()\n",
        "parameters = {'alpha': [0.01, 0.1, 1, 10, 100]}\n",
        "ridge_cv = GridSearchCV(ridge, parameters, scoring='neg_mean_squared_error', cv=5)\n",
        "ridge_cv.fit(X_train_scaled, y_train)\n",
        "\n",
        "# Best model\n",
        "best_ridge = ridge_cv.best_estimator_\n",
        "y_pred_ridge = best_ridge.predict(X_test_scaled)\n",
        "\n",
        "# Evaluate\n",
        "print(\"\\nBest Ridge Alpha:\", ridge_cv.best_params_)\n",
        "evaluate_model(y_test, y_pred_ridge, \"Ridge Regression\")"
      ],
      "metadata": {
        "colab": {
          "base_uri": "https://localhost:8080/"
        },
        "id": "qKWZMGoFUJfQ",
        "outputId": "cc788146-ab16-4e8c-a047-2612a3d99b3a"
      },
      "execution_count": 29,
      "outputs": [
        {
          "output_type": "stream",
          "name": "stdout",
          "text": [
            "\n",
            "Best Ridge Alpha: {'alpha': 100}\n",
            "\n",
            "Metrics for Ridge Regression:\n",
            "MSE: 9987909048.46\n",
            "RMSE: 99939.53\n",
            "MAE: 77541.67\n",
            "R²: -0.00\n"
          ]
        }
      ]
    },
    {
      "cell_type": "markdown",
      "source": [
        "Lasso Regression (L1 Penalty)"
      ],
      "metadata": {
        "id": "sg10Od-jURS_"
      }
    },
    {
      "cell_type": "code",
      "source": [
        "# Hyperparameter tuning for alpha (λ)\n",
        "lasso = Lasso()\n",
        "lasso_cv = GridSearchCV(lasso, parameters, scoring='neg_mean_squared_error', cv=5)\n",
        "lasso_cv.fit(X_train_scaled, y_train)\n",
        "\n",
        "# Best model\n",
        "best_lasso = lasso_cv.best_estimator_\n",
        "y_pred_lasso = best_lasso.predict(X_test_scaled)\n",
        "\n",
        "# Evaluate\n",
        "print(\"\\nBest Lasso Alpha:\", lasso_cv.best_params_)\n",
        "evaluate_model(y_test, y_pred_lasso, \"Lasso Regression\")\n",
        "\n",
        "# Check feature selection (Lasso shrinks some coefficients to zero)\n",
        "print(\"\\nLasso Coefficients:\")\n",
        "print(pd.DataFrame({\n",
        "    \"Feature\": X.columns,\n",
        "    \"Coefficient\": best_lasso.coef_\n",
        "}).sort_values(by=\"Coefficient\", ascending=False))"
      ],
      "metadata": {
        "colab": {
          "base_uri": "https://localhost:8080/"
        },
        "id": "AL4CMIY7UF3C",
        "outputId": "69204f12-fd64-48fc-94b3-2b01eb79e960"
      },
      "execution_count": 30,
      "outputs": [
        {
          "output_type": "stream",
          "name": "stdout",
          "text": [
            "\n",
            "Best Lasso Alpha: {'alpha': 100}\n",
            "\n",
            "Metrics for Lasso Regression:\n",
            "MSE: 9992066345.26\n",
            "RMSE: 99960.32\n",
            "MAE: 77554.44\n",
            "R²: -0.01\n",
            "\n",
            "Lasso Coefficients:\n",
            "     Feature  Coefficient\n",
            "3        Age  1376.253100\n",
            "1   Bedrooms -3176.758628\n",
            "0       Area -5002.700863\n",
            "2  Bathrooms -5449.982516\n"
          ]
        }
      ]
    },
    {
      "cell_type": "markdown",
      "source": [
        "4. Polynomial + Regularization (Best of Both Worlds)"
      ],
      "metadata": {
        "id": "vVmDsH0rUWsY"
      }
    },
    {
      "cell_type": "code",
      "source": [
        "# Ridge regression on polynomial features\n",
        "ridge_poly = Ridge(alpha=best_ridge.alpha)\n",
        "ridge_poly.fit(X_train_poly, y_train)\n",
        "y_pred_ridge_poly = ridge_poly.predict(X_test_poly)\n",
        "\n",
        "# Evaluate\n",
        "evaluate_model(y_test, y_pred_ridge_poly, \"Ridge + Polynomial Regression\")"
      ],
      "metadata": {
        "colab": {
          "base_uri": "https://localhost:8080/"
        },
        "id": "DtkTXwV5UTIC",
        "outputId": "6d706911-bf58-4d5b-a9ca-2f6c6e11bfa0"
      },
      "execution_count": 31,
      "outputs": [
        {
          "output_type": "stream",
          "name": "stdout",
          "text": [
            "\n",
            "Metrics for Ridge + Polynomial Regression:\n",
            "MSE: 9930972795.96\n",
            "RMSE: 99654.27\n",
            "MAE: 77677.61\n",
            "R²: 0.00\n"
          ]
        }
      ]
    },
    {
      "cell_type": "markdown",
      "source": [
        "5. Model Comparison Summary"
      ],
      "metadata": {
        "id": "S8Kwsj8VUbNS"
      }
    },
    {
      "cell_type": "code",
      "source": [
        "models = {\n",
        "    \"Linear Regression\": y_pred_test,\n",
        "    \"Polynomial Regression\": y_pred_poly,\n",
        "    \"Ridge Regression\": y_pred_ridge,\n",
        "    \"Lasso Regression\": y_pred_lasso,\n",
        "    \"Ridge + Polynomial\": y_pred_ridge_poly\n",
        "}\n",
        "\n",
        "results = []\n",
        "for name, preds in models.items():\n",
        "    mse = mean_squared_error(y_test, preds)\n",
        "    rmse = np.sqrt(mse)\n",
        "    r2 = r2_score(y_test, preds)\n",
        "    results.append([name, mse, rmse, r2])\n",
        "\n",
        "results_df = pd.DataFrame(results, columns=[\"Model\", \"MSE\", \"RMSE\", \"R²\"])\n",
        "print(\"\\nModel Comparison:\")\n",
        "print(results_df.sort_values(by=\"RMSE\"))"
      ],
      "metadata": {
        "colab": {
          "base_uri": "https://localhost:8080/"
        },
        "id": "crRlC99KUYQg",
        "outputId": "d782f977-a2f1-4713-f192-f6e3cb6246ac"
      },
      "execution_count": 32,
      "outputs": [
        {
          "output_type": "stream",
          "name": "stdout",
          "text": [
            "\n",
            "Model Comparison:\n",
            "                   Model           MSE          RMSE        R²\n",
            "4     Ridge + Polynomial  9.930973e+09  99654.266321  0.001104\n",
            "1  Polynomial Regression  9.936581e+09  99682.399272  0.000540\n",
            "2       Ridge Regression  9.987909e+09  99939.526957 -0.004623\n",
            "3       Lasso Regression  9.992066e+09  99960.323855 -0.005041\n",
            "0      Linear Regression  9.993081e+09  99965.397316 -0.005143\n"
          ]
        }
      ]
    },
    {
      "cell_type": "markdown",
      "source": [
        "# Scaling Pipeline only if y ( target variable will be scaled )"
      ],
      "metadata": {
        "id": "NoDj81YKVB1Q"
      }
    },
    {
      "cell_type": "code",
      "source": [
        "# 1. Split first\n",
        "X_train, X_test, y_train, y_test = train_test_split(X, y, test_size=0.2, random_state=42)\n",
        "\n",
        "# 2. Scale features (no leakage)\n",
        "scaler = StandardScaler()\n",
        "X_train_scaled = scaler.fit_transform(X_train)\n",
        "X_test_scaled = scaler.transform(X_test)  # No fit!\n",
        "\n",
        "# 3. (Optional) Scale y if using regularization/NNs\n",
        "y_scaler = StandardScaler()\n",
        "y_train_scaled = y_scaler.fit_transform(y_train.values.reshape(-1, 1))\n",
        "y_test_scaled = y_scaler.transform(y_test.values.reshape(-1, 1))\n",
        "\n",
        "scaled = True\n",
        "\n",
        "# 4. Train model\n",
        "model = LinearRegression()\n",
        "model.fit(X_train_scaled, y_train_scaled if scaled else y_train)\n",
        "\n",
        "# 5. Evaluate (reverse scaling if y was scaled)\n",
        "y_pred = model.predict(X_test_scaled)\n",
        "if scaled:\n",
        "    y_pred = y_scaler.inverse_transform(y_pred.reshape(-1, 1))"
      ],
      "metadata": {
        "id": "4Lb0AJoEUeL4"
      },
      "execution_count": 34,
      "outputs": []
    },
    {
      "cell_type": "markdown",
      "source": [
        "Check for data Lekage"
      ],
      "metadata": {
        "id": "InK91e7Vb7Nn"
      }
    },
    {
      "cell_type": "markdown",
      "source": [
        "Data leakage occurs when information from outside the training dataset is used to create the model, leading to overly optimistic performance estimates. Here’s how to prevent it:"
      ],
      "metadata": {
        "id": "-dObzRAhdhyx"
      }
    },
    {
      "cell_type": "markdown",
      "source": [
        "1. Strict Train-Test Split"
      ],
      "metadata": {
        "id": "hv5E9WT3dkFr"
      }
    },
    {
      "cell_type": "code",
      "source": [
        "# Split data before any preprocessing (scaling, imputation, feature engineering).\n",
        "\n",
        "from sklearn.model_selection import train_test_split\n",
        "\n",
        "# Step 1: Split FIRST\n",
        "X_train, X_test, y_train, y_test = train_test_split(X, y, test_size=0.2, random_state=42)\n"
      ],
      "metadata": {
        "id": "y1TL9j2eWqQ-"
      },
      "execution_count": 35,
      "outputs": []
    },
    {
      "cell_type": "markdown",
      "source": [
        "2. Scaling Features Properly"
      ],
      "metadata": {
        "id": "-_5D7E6Pd2Yo"
      }
    },
    {
      "cell_type": "code",
      "source": [
        "# Fit scaler only on training data, then transform both train and test.\n",
        "from sklearn.preprocessing import StandardScaler\n",
        "\n",
        "scaler = StandardScaler()\n",
        "X_train_scaled = scaler.fit_transform(X_train)  # Fit only on train\n",
        "X_test_scaled = scaler.transform(X_test)        # Transform test (no fit!)"
      ],
      "metadata": {
        "id": "0f9C07HMdvHl"
      },
      "execution_count": 36,
      "outputs": []
    },
    {
      "cell_type": "code",
      "source": [
        "# Handling Missing Values\n",
        "# Impute missing values using only training statistics.\n",
        "from sklearn.impute import SimpleImputer\n",
        "\n",
        "imputer = SimpleImputer(strategy='mean')\n",
        "X_train_imputed = imputer.fit_transform(X_train)  # Fit on train\n",
        "X_test_imputed = imputer.transform(X_test)        # Transform test"
      ],
      "metadata": {
        "id": "phTPFCtKedoD"
      },
      "execution_count": 37,
      "outputs": []
    },
    {
      "cell_type": "markdown",
      "source": [
        "4. Feature Engineering  \n",
        "✅ Correct Way:  \n",
        "Calculate features (e.g., log(x), x²) separately for train and test.  "
      ],
      "metadata": {
        "id": "LZmGe-AeewzB"
      }
    },
    {
      "cell_type": "code",
      "source": [
        "X_train['Age_squared'] = X_train['Age'] ** 2  # Only use train\n",
        "X_test['Age_squared'] = X_test['Age'] ** 2    # Apply same operation"
      ],
      "metadata": {
        "id": "RAt14Ie1eoDT"
      },
      "execution_count": 38,
      "outputs": []
    },
    {
      "cell_type": "markdown",
      "source": [
        "5. Cross-Validation (Avoid Leaky CV)  \n",
        "✅ Correct Way:  \n",
        "Use Pipeline + cross_val_score to prevent leakage in CV.  "
      ],
      "metadata": {
        "id": "TEiNLWTOe4FQ"
      }
    },
    {
      "cell_type": "code",
      "source": [
        "from sklearn.pipeline import Pipeline\n",
        "from sklearn.model_selection import cross_val_score\n",
        "\n",
        "pipeline = Pipeline([\n",
        "    ('imputer', SimpleImputer(strategy='mean')),\n",
        "    ('scaler', StandardScaler()),\n",
        "    ('model', LinearRegression())\n",
        "])\n",
        "\n",
        "scores = cross_val_score(pipeline, X_train, y_train, cv=5)  # No leakage"
      ],
      "metadata": {
        "id": "4BbhpcQue0Cs"
      },
      "execution_count": 39,
      "outputs": []
    },
    {
      "cell_type": "markdown",
      "source": [
        "6. Time-Series Data (Special Case)  \n",
        "✅ Correct Way:  \n",
        "Use time-based splitting (e.g., TimeSeriesSplit).  "
      ],
      "metadata": {
        "id": "RMESPJ16fDzP"
      }
    },
    {
      "cell_type": "code",
      "source": [
        "from sklearn.model_selection import TimeSeriesSplit\n",
        "\n",
        "tscv = TimeSeriesSplit(n_splits=5)\n",
        "for train_idx, test_idx in tscv.split(X):\n",
        "    X_train, X_test = X.iloc[train_idx], X.iloc[test_idx]\n",
        "    # Preprocess X_train and X_test separately"
      ],
      "metadata": {
        "id": "LWupGQxRe7x8"
      },
      "execution_count": 40,
      "outputs": []
    },
    {
      "cell_type": "markdown",
      "source": [
        "7. Target Encoding (Categorical Variables)  \n",
        "✅ Correct Way:  \n",
        "Calculate target means per fold or use regularization."
      ],
      "metadata": {
        "id": "tbFYcOr3fKf_"
      }
    },
    {
      "cell_type": "code",
      "source": [
        "from category_encoders import TargetEncoder\n",
        "\n",
        "encoder = TargetEncoder()\n",
        "X_train_encoded = encoder.fit_transform(X_train, y_train)  # Fit on train\n",
        "X_test_encoded = encoder.transform(X_test)                 # Transform test\n"
      ],
      "metadata": {
        "colab": {
          "base_uri": "https://localhost:8080/",
          "height": 383
        },
        "id": "U6gGu06ffGpt",
        "outputId": "4dbdddf0-6056-41f7-d92e-48e83ee6091a"
      },
      "execution_count": 41,
      "outputs": [
        {
          "output_type": "error",
          "ename": "ModuleNotFoundError",
          "evalue": "No module named 'category_encoders'",
          "traceback": [
            "\u001b[0;31m---------------------------------------------------------------------------\u001b[0m",
            "\u001b[0;31mModuleNotFoundError\u001b[0m                       Traceback (most recent call last)",
            "\u001b[0;32m<ipython-input-41-db3f7b4003f9>\u001b[0m in \u001b[0;36m<cell line: 0>\u001b[0;34m()\u001b[0m\n\u001b[0;32m----> 1\u001b[0;31m \u001b[0;32mfrom\u001b[0m \u001b[0mcategory_encoders\u001b[0m \u001b[0;32mimport\u001b[0m \u001b[0mTargetEncoder\u001b[0m\u001b[0;34m\u001b[0m\u001b[0;34m\u001b[0m\u001b[0m\n\u001b[0m\u001b[1;32m      2\u001b[0m \u001b[0;34m\u001b[0m\u001b[0m\n\u001b[1;32m      3\u001b[0m \u001b[0mencoder\u001b[0m \u001b[0;34m=\u001b[0m \u001b[0mTargetEncoder\u001b[0m\u001b[0;34m(\u001b[0m\u001b[0;34m)\u001b[0m\u001b[0;34m\u001b[0m\u001b[0;34m\u001b[0m\u001b[0m\n\u001b[1;32m      4\u001b[0m \u001b[0mX_train_encoded\u001b[0m \u001b[0;34m=\u001b[0m \u001b[0mencoder\u001b[0m\u001b[0;34m.\u001b[0m\u001b[0mfit_transform\u001b[0m\u001b[0;34m(\u001b[0m\u001b[0mX_train\u001b[0m\u001b[0;34m,\u001b[0m \u001b[0my_train\u001b[0m\u001b[0;34m)\u001b[0m  \u001b[0;31m# Fit on train\u001b[0m\u001b[0;34m\u001b[0m\u001b[0;34m\u001b[0m\u001b[0m\n\u001b[1;32m      5\u001b[0m \u001b[0mX_test_encoded\u001b[0m \u001b[0;34m=\u001b[0m \u001b[0mencoder\u001b[0m\u001b[0;34m.\u001b[0m\u001b[0mtransform\u001b[0m\u001b[0;34m(\u001b[0m\u001b[0mX_test\u001b[0m\u001b[0;34m)\u001b[0m                 \u001b[0;31m# Transform test\u001b[0m\u001b[0;34m\u001b[0m\u001b[0;34m\u001b[0m\u001b[0m\n",
            "\u001b[0;31mModuleNotFoundError\u001b[0m: No module named 'category_encoders'",
            "",
            "\u001b[0;31m---------------------------------------------------------------------------\u001b[0;32m\nNOTE: If your import is failing due to a missing package, you can\nmanually install dependencies using either !pip or !apt.\n\nTo view examples of installing some common dependencies, click the\n\"Open Examples\" button below.\n\u001b[0;31m---------------------------------------------------------------------------\u001b[0m\n"
          ],
          "errorDetails": {
            "actions": [
              {
                "action": "open_url",
                "actionText": "Open Examples",
                "url": "/notebooks/snippets/importing_libraries.ipynb"
              }
            ]
          }
        }
      ]
    },
    {
      "cell_type": "markdown",
      "source": [
        "8. Avoid Testing on Scaled y  \n",
        "✅ Correct Way (for Regression):  \n",
        "\n",
        "Do not scale y unless using regularization/NNs.  \n",
        "\n",
        "If scaled, inverse-transform predictions before evaluation.  "
      ],
      "metadata": {
        "id": "uYfujLtNhiZD"
      }
    },
    {
      "cell_type": "code",
      "source": [
        "# If y was scaled (e.g., for Ridge/Lasso)\n",
        "y_pred = model.predict(X_test_scaled)\n",
        "y_pred_original = y_scaler.inverse_transform(y_pred.reshape(-1, 1))"
      ],
      "metadata": {
        "id": "rHakKToYfQnw"
      },
      "execution_count": 42,
      "outputs": []
    },
    {
      "cell_type": "markdown",
      "source": [
        "9. Use a Holdout Test Set  \n",
        "✅ Best Practice:  \n",
        "\n",
        "Keep a completely unseen test set until the final evaluation.  \n",
        "\n",
        "Never use it for feature selection/hyperparameter tuning.  "
      ],
      "metadata": {
        "id": "VwMnwL6khvrO"
      }
    },
    {
      "cell_type": "code",
      "source": [
        "# Split into train, validation, and test\n",
        "X_train, X_temp, y_train, y_temp = train_test_split(X, y, test_size=0.3)\n",
        "X_val, X_test, y_val, y_test = train_test_split(X_temp, y_temp, test_size=0.5)"
      ],
      "metadata": {
        "id": "vAHs1DzMhqdj"
      },
      "execution_count": 43,
      "outputs": []
    },
    {
      "cell_type": "markdown",
      "source": [
        "10. Automated Leakage Checks  \n",
        "Tools to Detect Leakage:  \n",
        "\n",
        "sklearn.inspection.permutation_importance (if test performance >> train\n",
        "  performance).  \n",
        "\n",
        "pandas-profiling (check for unrealistic correlations).  "
      ],
      "metadata": {
        "id": "luWtTu_lh3v5"
      }
    },
    {
      "cell_type": "code",
      "source": [
        "from sklearn.inspection import permutation_importance\n",
        "\n",
        "result = permutation_importance(model, X_test, y_test, n_repeats=10)\n",
        "print(\"Feature importance (no leakage expected):\", result.importances_mean)"
      ],
      "metadata": {
        "colab": {
          "base_uri": "https://localhost:8080/"
        },
        "id": "lHj5_cX2h1Wd",
        "outputId": "0cae8a66-6816-4825-eb8a-93c30fb70971"
      },
      "execution_count": 44,
      "outputs": [
        {
          "output_type": "stream",
          "name": "stdout",
          "text": [
            "Feature importance (no leakage expected): [-1.65034081e-04 -1.75273859e-08  1.45915302e-07  4.14266659e-07]\n"
          ]
        },
        {
          "output_type": "stream",
          "name": "stderr",
          "text": [
            "/usr/local/lib/python3.11/dist-packages/sklearn/utils/validation.py:2732: UserWarning: X has feature names, but LinearRegression was fitted without feature names\n",
            "  warnings.warn(\n",
            "/usr/local/lib/python3.11/dist-packages/sklearn/utils/validation.py:2732: UserWarning: X has feature names, but LinearRegression was fitted without feature names\n",
            "  warnings.warn(\n",
            "/usr/local/lib/python3.11/dist-packages/sklearn/utils/validation.py:2732: UserWarning: X has feature names, but LinearRegression was fitted without feature names\n",
            "  warnings.warn(\n",
            "/usr/local/lib/python3.11/dist-packages/sklearn/utils/validation.py:2732: UserWarning: X has feature names, but LinearRegression was fitted without feature names\n",
            "  warnings.warn(\n",
            "/usr/local/lib/python3.11/dist-packages/sklearn/utils/validation.py:2732: UserWarning: X has feature names, but LinearRegression was fitted without feature names\n",
            "  warnings.warn(\n",
            "/usr/local/lib/python3.11/dist-packages/sklearn/utils/validation.py:2732: UserWarning: X has feature names, but LinearRegression was fitted without feature names\n",
            "  warnings.warn(\n",
            "/usr/local/lib/python3.11/dist-packages/sklearn/utils/validation.py:2732: UserWarning: X has feature names, but LinearRegression was fitted without feature names\n",
            "  warnings.warn(\n",
            "/usr/local/lib/python3.11/dist-packages/sklearn/utils/validation.py:2732: UserWarning: X has feature names, but LinearRegression was fitted without feature names\n",
            "  warnings.warn(\n",
            "/usr/local/lib/python3.11/dist-packages/sklearn/utils/validation.py:2732: UserWarning: X has feature names, but LinearRegression was fitted without feature names\n",
            "  warnings.warn(\n",
            "/usr/local/lib/python3.11/dist-packages/sklearn/utils/validation.py:2732: UserWarning: X has feature names, but LinearRegression was fitted without feature names\n",
            "  warnings.warn(\n",
            "/usr/local/lib/python3.11/dist-packages/sklearn/utils/validation.py:2732: UserWarning: X has feature names, but LinearRegression was fitted without feature names\n",
            "  warnings.warn(\n",
            "/usr/local/lib/python3.11/dist-packages/sklearn/utils/validation.py:2732: UserWarning: X has feature names, but LinearRegression was fitted without feature names\n",
            "  warnings.warn(\n",
            "/usr/local/lib/python3.11/dist-packages/sklearn/utils/validation.py:2732: UserWarning: X has feature names, but LinearRegression was fitted without feature names\n",
            "  warnings.warn(\n",
            "/usr/local/lib/python3.11/dist-packages/sklearn/utils/validation.py:2732: UserWarning: X has feature names, but LinearRegression was fitted without feature names\n",
            "  warnings.warn(\n",
            "/usr/local/lib/python3.11/dist-packages/sklearn/utils/validation.py:2732: UserWarning: X has feature names, but LinearRegression was fitted without feature names\n",
            "  warnings.warn(\n",
            "/usr/local/lib/python3.11/dist-packages/sklearn/utils/validation.py:2732: UserWarning: X has feature names, but LinearRegression was fitted without feature names\n",
            "  warnings.warn(\n",
            "/usr/local/lib/python3.11/dist-packages/sklearn/utils/validation.py:2732: UserWarning: X has feature names, but LinearRegression was fitted without feature names\n",
            "  warnings.warn(\n",
            "/usr/local/lib/python3.11/dist-packages/sklearn/utils/validation.py:2732: UserWarning: X has feature names, but LinearRegression was fitted without feature names\n",
            "  warnings.warn(\n",
            "/usr/local/lib/python3.11/dist-packages/sklearn/utils/validation.py:2732: UserWarning: X has feature names, but LinearRegression was fitted without feature names\n",
            "  warnings.warn(\n",
            "/usr/local/lib/python3.11/dist-packages/sklearn/utils/validation.py:2732: UserWarning: X has feature names, but LinearRegression was fitted without feature names\n",
            "  warnings.warn(\n",
            "/usr/local/lib/python3.11/dist-packages/sklearn/utils/validation.py:2732: UserWarning: X has feature names, but LinearRegression was fitted without feature names\n",
            "  warnings.warn(\n",
            "/usr/local/lib/python3.11/dist-packages/sklearn/utils/validation.py:2732: UserWarning: X has feature names, but LinearRegression was fitted without feature names\n",
            "  warnings.warn(\n",
            "/usr/local/lib/python3.11/dist-packages/sklearn/utils/validation.py:2732: UserWarning: X has feature names, but LinearRegression was fitted without feature names\n",
            "  warnings.warn(\n",
            "/usr/local/lib/python3.11/dist-packages/sklearn/utils/validation.py:2732: UserWarning: X has feature names, but LinearRegression was fitted without feature names\n",
            "  warnings.warn(\n",
            "/usr/local/lib/python3.11/dist-packages/sklearn/utils/validation.py:2732: UserWarning: X has feature names, but LinearRegression was fitted without feature names\n",
            "  warnings.warn(\n",
            "/usr/local/lib/python3.11/dist-packages/sklearn/utils/validation.py:2732: UserWarning: X has feature names, but LinearRegression was fitted without feature names\n",
            "  warnings.warn(\n",
            "/usr/local/lib/python3.11/dist-packages/sklearn/utils/validation.py:2732: UserWarning: X has feature names, but LinearRegression was fitted without feature names\n",
            "  warnings.warn(\n",
            "/usr/local/lib/python3.11/dist-packages/sklearn/utils/validation.py:2732: UserWarning: X has feature names, but LinearRegression was fitted without feature names\n",
            "  warnings.warn(\n",
            "/usr/local/lib/python3.11/dist-packages/sklearn/utils/validation.py:2732: UserWarning: X has feature names, but LinearRegression was fitted without feature names\n",
            "  warnings.warn(\n",
            "/usr/local/lib/python3.11/dist-packages/sklearn/utils/validation.py:2732: UserWarning: X has feature names, but LinearRegression was fitted without feature names\n",
            "  warnings.warn(\n",
            "/usr/local/lib/python3.11/dist-packages/sklearn/utils/validation.py:2732: UserWarning: X has feature names, but LinearRegression was fitted without feature names\n",
            "  warnings.warn(\n",
            "/usr/local/lib/python3.11/dist-packages/sklearn/utils/validation.py:2732: UserWarning: X has feature names, but LinearRegression was fitted without feature names\n",
            "  warnings.warn(\n",
            "/usr/local/lib/python3.11/dist-packages/sklearn/utils/validation.py:2732: UserWarning: X has feature names, but LinearRegression was fitted without feature names\n",
            "  warnings.warn(\n",
            "/usr/local/lib/python3.11/dist-packages/sklearn/utils/validation.py:2732: UserWarning: X has feature names, but LinearRegression was fitted without feature names\n",
            "  warnings.warn(\n",
            "/usr/local/lib/python3.11/dist-packages/sklearn/utils/validation.py:2732: UserWarning: X has feature names, but LinearRegression was fitted without feature names\n",
            "  warnings.warn(\n",
            "/usr/local/lib/python3.11/dist-packages/sklearn/utils/validation.py:2732: UserWarning: X has feature names, but LinearRegression was fitted without feature names\n",
            "  warnings.warn(\n",
            "/usr/local/lib/python3.11/dist-packages/sklearn/utils/validation.py:2732: UserWarning: X has feature names, but LinearRegression was fitted without feature names\n",
            "  warnings.warn(\n",
            "/usr/local/lib/python3.11/dist-packages/sklearn/utils/validation.py:2732: UserWarning: X has feature names, but LinearRegression was fitted without feature names\n",
            "  warnings.warn(\n",
            "/usr/local/lib/python3.11/dist-packages/sklearn/utils/validation.py:2732: UserWarning: X has feature names, but LinearRegression was fitted without feature names\n",
            "  warnings.warn(\n",
            "/usr/local/lib/python3.11/dist-packages/sklearn/utils/validation.py:2732: UserWarning: X has feature names, but LinearRegression was fitted without feature names\n",
            "  warnings.warn(\n",
            "/usr/local/lib/python3.11/dist-packages/sklearn/utils/validation.py:2732: UserWarning: X has feature names, but LinearRegression was fitted without feature names\n",
            "  warnings.warn(\n"
          ]
        }
      ]
    },
    {
      "cell_type": "code",
      "source": [],
      "metadata": {
        "id": "QL_IIB3zh8Hy"
      },
      "execution_count": null,
      "outputs": []
    }
  ]
}